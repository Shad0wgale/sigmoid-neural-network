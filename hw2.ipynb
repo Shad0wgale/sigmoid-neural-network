{
 "cells": [
  {
   "cell_type": "code",
   "execution_count": 31,
   "metadata": {},
   "outputs": [],
   "source": [
    "import numpy as np\n",
    "import math"
   ]
  },
  {
   "cell_type": "markdown",
   "metadata": {},
   "source": [
    "Problem Statement\n",
    "You are presented with a problem of classifying cakes as chocolate or not\n",
    "chocolate based on certain features of the cake. You are given 3 features,\n",
    "- X1: Sugar Content (Values ranging from 0-1)\n",
    "- X2: Cocoa Content (Values ranging from 0-1)\n",
    "- X3: Flour Content (Values ranging from 0-1)\n"
   ]
  },
  {
   "cell_type": "markdown",
   "metadata": {},
   "source": [
    "Exercise 1:Questions\n",
    "Answer the following questions in short sentences:\n",
    "- How well did the following MLP perform?\n",
    "- Why might the MLP perform as it did, despite the lack of weight updates?\n",
    "- How would the performance change if backpropagation were introduced?\n"
   ]
  },
  {
   "cell_type": "markdown",
   "metadata": {},
   "source": [
    "1. The high mean squared error indicated poor performance from the MLP, meaning that the predicted outputs were very different from the true values.\n",
    "2. Without weight updating, our multilayer perceptron might as well be a linear model because it is not intelligently learning from its iterations at all.\n",
    "3. With back propogation, our MLP would work as intended and adjust/learn by adjusting weights based on output. This will definitely reduce our MSE and improve prediction performance.\n"
   ]
  },
  {
   "cell_type": "markdown",
   "metadata": {},
   "source": [
    "Exercise 1: Coding\n",
    "Using only the numpy library, create the same multi-layered perceptron in python\n",
    "and initialize using the same parameters and print the MSE. Make sure to\n",
    "structure/generalize your code (either using functions and or classes).\n"
   ]
  },
  {
   "cell_type": "code",
   "execution_count": 32,
   "metadata": {},
   "outputs": [
    {
     "name": "stdout",
     "output_type": "stream",
     "text": [
      "1.788 2.0940000000000003\n",
      "postsig: 0.8566818955968716\n",
      "postsig: 0.8903186413438859\n",
      "activatedneuron= 0.8566818955968716 0.8903186413438859\n",
      "1.895164315848643\n",
      "1.421 2.1670000000000003\n",
      "postsig: 0.8054951369940119\n",
      "postsig: 0.8972467108359328\n",
      "activatedneuron= 0.8054951369940119 0.8972467108359328\n",
      "1.8645255891637622\n",
      "1.815 2.198\n",
      "postsig: 0.8599650843722273\n",
      "postsig: 0.9000697663968664\n",
      "activatedneuron= 0.8599650843722273 0.9000697663968664\n",
      "1.901003816072757\n",
      " predicted y values: (np.float64(1.895164315848643), np.float64(1.8645255891637622))\n",
      " mean squared error: 1.6965275671976379\n"
     ]
    }
   ],
   "source": [
    "#weights, biases, inputs, and true outputs\n",
    "w11, w12, w13 = 0.14, 0.78, 0.33\n",
    "w21, w22, w23 = 0.91, 0.47, 0.56\n",
    "wh1, wh2 = 0.65, 0.38\n",
    "b1, b2, b10 = 1, 1, 1\n",
    "\n",
    "X = np.array([\n",
    "    [0.4, 0.6, 0.8],\n",
    "    [0.8, 0.1, 0.7],\n",
    "    [0.55, 0.65, 0.7]\n",
    "])\n",
    "y_true = np.array([1, 0, 1])\n",
    "\n",
    "n = len(X)\n",
    "\n",
    "# activation formula\n",
    "def hidden_neuron_activation(x1, x2, x3):\n",
    "    z_h1 = w11 * x1 + w12 * x2 + w13 * x3 + b1 #first layer\n",
    "    z_h2 = w21 * x1 + w22 * x2 + w23 * x3 + b2 #second layer\n",
    "    print(z_h1,z_h2)\n",
    "    return z_h1, z_h2\n",
    "\n",
    "def sigmoid(x):\n",
    "  postsig = 1 / (1 + math.exp(-x))\n",
    "  print(\"postsig:\", postsig)\n",
    "  return postsig\n",
    "\n",
    "# Output neuron activation\n",
    "def output_neuron_activation(z_h1, z_h2):\n",
    "    z_out = wh1 * z_h1 + wh2 * z_h2 + b10\n",
    "    print(z_out)\n",
    "    return z_out\n",
    "\n",
    "\n",
    "predictions = np.zeros(n)\n",
    "for i in range(n):\n",
    "    z_h1, z_h2 = hidden_neuron_activation(X[i][0], X[i][1], X[i][2])\n",
    "    z_h1 = sigmoid(z_h1)\n",
    "    z_h2 = sigmoid(z_h2)\n",
    "    print(\"activatedneuron=\",z_h1,z_h2)\n",
    "    predictions[i] = output_neuron_activation(z_h1, z_h2)\n",
    "\n",
    "# Calculate MSE\n",
    "mse = np.mean((y_true - predictions) ** 2)\n",
    "print(f\" predicted y values: {predictions[0],predictions[1]}\")\n",
    "print(f\" mean squared error: {mse}\")"
   ]
  },
  {
   "cell_type": "markdown",
   "metadata": {},
   "source": [
    "Exercise 2: Hands-On\n",
    "Let’s say we’re given the same cake\n",
    "problem and only want to classify\n",
    "using sugar and cocoa content and\n",
    "instead, we will be using another\n",
    "neural network, with 3 hidden neurons\n",
    "and 2 output neurons all using sigmoid\n",
    "as the activation function. If y1 and y2\n",
    "output (0.3,0.7) then it’s classified as\n",
    "chocolate cake, but if the output is\n",
    "(0.7,0.3) then it is classified as not\n",
    "chocolate cake. Given a set of\n",
    "weights, biases, and inputs, manually\n",
    "calculate their outputs and the MSE.\n",
    "Additionally, update the weights and\n",
    "biases twice using backpropagation.\n"
   ]
  },
  {
   "cell_type": "markdown",
   "metadata": {},
   "source": [
    "Exercise 2: Coding Portion\n",
    "Using only the numpy library, create the same simple neural network in python\n",
    "and initialize using the same parameters. Update its weights and biases 100 times\n",
    "and print out its new weights and MSE. Make sure to structure/generalize your\n",
    "code (either using functions and or classes).\n"
   ]
  },
  {
   "cell_type": "code",
   "execution_count": 35,
   "metadata": {},
   "outputs": [
    {
     "name": "stdout",
     "output_type": "stream",
     "text": [
      "postsig: 0.8566818955968716\n",
      "0.8566818955968716\n",
      "postsig: 0.8903186413438859\n",
      "0.8903186413438859\n"
     ]
    }
   ],
   "source": [
    "print(sigmoid(1.788))\n",
    "print(sigmoid(2.094))"
   ]
  }
 ],
 "metadata": {
  "kernelspec": {
   "display_name": "Python 3",
   "language": "python",
   "name": "python3"
  },
  "language_info": {
   "codemirror_mode": {
    "name": "ipython",
    "version": 3
   },
   "file_extension": ".py",
   "mimetype": "text/x-python",
   "name": "python",
   "nbconvert_exporter": "python",
   "pygments_lexer": "ipython3",
   "version": "3.12.5"
  }
 },
 "nbformat": 4,
 "nbformat_minor": 2
}
